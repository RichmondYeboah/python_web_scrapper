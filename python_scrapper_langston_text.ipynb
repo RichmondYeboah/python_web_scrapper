{
 "cells": [
  {
   "cell_type": "code",
   "execution_count": 1,
   "id": "basic-genetics",
   "metadata": {},
   "outputs": [],
   "source": [
    "# import libraries\n",
    "from urllib.request import Request, urlopen\n",
    "from bs4 import BeautifulSoup"
   ]
  },
  {
   "cell_type": "code",
   "execution_count": 2,
   "id": "missing-beach",
   "metadata": {},
   "outputs": [],
   "source": [
    "# specify the url that will collect the formatted data from the website\n",
    "req = Request('https://poets.org/poem/weary-blues', headers={'User-Agent': 'Mozilla/5.0'})\n",
    "\n",
    "\n",
    "try:\n",
    "    webpage = urlopen(req).read()\n",
    "except:\n",
    "    print(\"Error opening the URL\")\n",
    "\n",
    "# parse the html using beautiful soup and store in variable `soup`\n",
    "soup = BeautifulSoup(webpage, 'html.parser')\n",
    "\n",
    "# Take out the <div> of name and get its value\n",
    "content = soup.find('div', {\"class\": \"card-body\"})\n",
    "\n",
    "article = ''\n",
    "for i in soup.find_all('p'):\n",
    "    article = article + '' +  i.text\n",
    "#print(article) #if you want to see the text that was printed\n",
    "\n",
    "# Saving the scraped text\n",
    "with open('langston_scraped.txt', 'w') as file:\n",
    "    file.write(article)"
   ]
  },
  {
   "cell_type": "code",
   "execution_count": 3,
   "id": "silver-cutting",
   "metadata": {},
   "outputs": [
    {
     "name": "stdout",
     "output_type": "stream",
     "text": [
      "Number of occurrences of the word : 3\n"
     ]
    }
   ],
   "source": [
    "    #read content of file to string\n",
    "file = open(r'C:\\Users\\User\\Documents\\Data_Science\\Python\\Web_scrapping\\web_scrapper\\langston_scraped_text.txt', 'r')\n",
    "data = file.read()\n",
    "occurrences = data.count(\"Blues!\")\n",
    "print('Number of occurrences of the word :', occurrences)"
   ]
  }
 ],
 "metadata": {
  "kernelspec": {
   "display_name": "Python 3",
   "language": "python",
   "name": "python3"
  },
  "language_info": {
   "codemirror_mode": {
    "name": "ipython",
    "version": 3
   },
   "file_extension": ".py",
   "mimetype": "text/x-python",
   "name": "python",
   "nbconvert_exporter": "python",
   "pygments_lexer": "ipython3",
   "version": "3.9.6"
  }
 },
 "nbformat": 4,
 "nbformat_minor": 5
}
